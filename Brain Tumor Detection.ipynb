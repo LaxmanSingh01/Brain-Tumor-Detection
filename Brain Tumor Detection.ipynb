{
 "cells": [
  {
   "cell_type": "markdown",
   "id": "a92f0c0a",
   "metadata": {},
   "source": [
    "## Importing the required libraries"
   ]
  },
  {
   "cell_type": "code",
   "execution_count": 1,
   "id": "ad19501d",
   "metadata": {},
   "outputs": [],
   "source": [
    "import numpy as np\n",
    "from tensorflow.keras.layers import *\n",
    "from tensorflow.keras.models import *\n",
    "from tensorflow.keras.preprocessing import image\n",
    "import matplotlib.pyplot as plt"
   ]
  },
  {
   "cell_type": "markdown",
   "id": "4bcd688c",
   "metadata": {},
   "source": [
    "## Initializing the path"
   ]
  },
  {
   "cell_type": "code",
   "execution_count": 2,
   "id": "cd1ebe33",
   "metadata": {},
   "outputs": [],
   "source": [
    "train_path=('E:/Project for Portfolio/Brain Tumour detection/brain_tumor_dataset/Train')\n",
    "test_path=('E:/Project for Portfolio/Brain Tumour detection/brain_tumor_dataset/Test')"
   ]
  },
  {
   "cell_type": "markdown",
   "id": "10bfdddb",
   "metadata": {},
   "source": [
    "## Model building"
   ]
  },
  {
   "cell_type": "code",
   "execution_count": 3,
   "id": "ab0f3606",
   "metadata": {},
   "outputs": [],
   "source": [
    "model=Sequential()\n",
    "model.add(Conv2D(32,kernel_size=(3,3),activation='relu',input_shape=(224,224,3)))\n",
    "model.add(Conv2D(64,kernel_size=(3,3),activation='relu'))\n",
    "model.add(MaxPooling2D(pool_size=(2,2)))\n",
    "model.add(Dropout(0.25))\n",
    "\n",
    "model.add(Conv2D(64,kernel_size=(3,3),activation='relu'))\n",
    "model.add(MaxPooling2D(pool_size=(2,2)))\n",
    "model.add(Dropout(0.25))\n",
    "\n",
    "model.add(Conv2D(128,kernel_size=(3,3),activation='relu'))\n",
    "model.add(MaxPooling2D(pool_size=(2,2)))\n",
    "model.add(Dropout(0.25))\n",
    "\n",
    "model.add(Flatten())\n",
    "model.add(Dense(64,activation='relu'))\n",
    "model.add(Dropout(0.5))\n",
    "model.add(Dense(1,activation='sigmoid'))\n",
    "\n",
    "model.compile(loss='binary_crossentropy',optimizer='adam',metrics=['accuracy'])"
   ]
  },
  {
   "cell_type": "code",
   "execution_count": 4,
   "id": "17678baf",
   "metadata": {},
   "outputs": [
    {
     "name": "stdout",
     "output_type": "stream",
     "text": [
      "Model: \"sequential\"\n",
      "_________________________________________________________________\n",
      "Layer (type)                 Output Shape              Param #   \n",
      "=================================================================\n",
      "conv2d (Conv2D)              (None, 222, 222, 32)      896       \n",
      "_________________________________________________________________\n",
      "conv2d_1 (Conv2D)            (None, 220, 220, 64)      18496     \n",
      "_________________________________________________________________\n",
      "max_pooling2d (MaxPooling2D) (None, 110, 110, 64)      0         \n",
      "_________________________________________________________________\n",
      "dropout (Dropout)            (None, 110, 110, 64)      0         \n",
      "_________________________________________________________________\n",
      "conv2d_2 (Conv2D)            (None, 108, 108, 64)      36928     \n",
      "_________________________________________________________________\n",
      "max_pooling2d_1 (MaxPooling2 (None, 54, 54, 64)        0         \n",
      "_________________________________________________________________\n",
      "dropout_1 (Dropout)          (None, 54, 54, 64)        0         \n",
      "_________________________________________________________________\n",
      "conv2d_3 (Conv2D)            (None, 52, 52, 128)       73856     \n",
      "_________________________________________________________________\n",
      "max_pooling2d_2 (MaxPooling2 (None, 26, 26, 128)       0         \n",
      "_________________________________________________________________\n",
      "dropout_2 (Dropout)          (None, 26, 26, 128)       0         \n",
      "_________________________________________________________________\n",
      "flatten (Flatten)            (None, 86528)             0         \n",
      "_________________________________________________________________\n",
      "dense (Dense)                (None, 64)                5537856   \n",
      "_________________________________________________________________\n",
      "dropout_3 (Dropout)          (None, 64)                0         \n",
      "_________________________________________________________________\n",
      "dense_1 (Dense)              (None, 1)                 65        \n",
      "=================================================================\n",
      "Total params: 5,668,097\n",
      "Trainable params: 5,668,097\n",
      "Non-trainable params: 0\n",
      "_________________________________________________________________\n"
     ]
    }
   ],
   "source": [
    "model.summary()"
   ]
  },
  {
   "cell_type": "markdown",
   "id": "a2d99a3f",
   "metadata": {},
   "source": [
    "## Train-test Split"
   ]
  },
  {
   "cell_type": "code",
   "execution_count": 5,
   "id": "c9815c6f",
   "metadata": {},
   "outputs": [],
   "source": [
    "# Train from scratch\n",
    "train_datagen = image.ImageDataGenerator(\n",
    "    rescale = 1./255,\n",
    "    shear_range = 0.2,\n",
    "    zoom_range = 0.2,\n",
    "    horizontal_flip = True,\n",
    ")\n",
    "\n",
    "test_datagen = image.ImageDataGenerator(rescale=1./255)"
   ]
  },
  {
   "cell_type": "code",
   "execution_count": 6,
   "id": "4acee074",
   "metadata": {},
   "outputs": [
    {
     "name": "stdout",
     "output_type": "stream",
     "text": [
      "Found 213 images belonging to 2 classes.\n"
     ]
    }
   ],
   "source": [
    "train_dataset = train_datagen.flow_from_directory(\n",
    "    train_path,\n",
    "    target_size = (224,224),\n",
    "    batch_size = 32,\n",
    "    class_mode = 'binary')"
   ]
  },
  {
   "cell_type": "code",
   "execution_count": 7,
   "id": "08b4b342",
   "metadata": {},
   "outputs": [
    {
     "data": {
      "text/plain": [
       "{'no': 0, 'yes': 1}"
      ]
     },
     "execution_count": 7,
     "metadata": {},
     "output_type": "execute_result"
    }
   ],
   "source": [
    "train_dataset.class_indices"
   ]
  },
  {
   "cell_type": "code",
   "execution_count": 8,
   "id": "f2a80062",
   "metadata": {},
   "outputs": [
    {
     "name": "stdout",
     "output_type": "stream",
     "text": [
      "Found 40 images belonging to 2 classes.\n"
     ]
    }
   ],
   "source": [
    "test_dataset = test_datagen.flow_from_directory(\n",
    "    test_path,\n",
    "    target_size = (224,224),\n",
    "    batch_size = 32,\n",
    "    class_mode = 'binary')"
   ]
  },
  {
   "cell_type": "markdown",
   "id": "0ce21e94",
   "metadata": {},
   "source": [
    "## Training the model"
   ]
  },
  {
   "cell_type": "code",
   "execution_count": 23,
   "id": "ba185a4f",
   "metadata": {},
   "outputs": [
    {
     "name": "stdout",
     "output_type": "stream",
     "text": [
      "Epoch 1/30\n",
      "7/7 [==============================] - 49s 7s/step - loss: 0.5935 - accuracy: 0.7230 - val_loss: 0.5968 - val_accuracy: 0.6750\n",
      "Epoch 2/30\n",
      "7/7 [==============================] - 48s 7s/step - loss: 0.5848 - accuracy: 0.7230 - val_loss: 0.5856 - val_accuracy: 0.6750\n",
      "Epoch 3/30\n",
      "7/7 [==============================] - 48s 7s/step - loss: 0.5696 - accuracy: 0.7324 - val_loss: 0.5869 - val_accuracy: 0.6750\n",
      "Epoch 4/30\n",
      "7/7 [==============================] - 48s 7s/step - loss: 0.5562 - accuracy: 0.7277 - val_loss: 0.5471 - val_accuracy: 0.7500\n",
      "Epoch 5/30\n",
      "7/7 [==============================] - 49s 7s/step - loss: 0.5384 - accuracy: 0.7700 - val_loss: 0.5212 - val_accuracy: 0.7500\n",
      "Epoch 6/30\n",
      "7/7 [==============================] - 50s 7s/step - loss: 0.5238 - accuracy: 0.7653 - val_loss: 0.5396 - val_accuracy: 0.7750\n",
      "Epoch 7/30\n",
      "7/7 [==============================] - 49s 7s/step - loss: 0.5397 - accuracy: 0.7324 - val_loss: 0.5996 - val_accuracy: 0.6750\n",
      "Epoch 8/30\n",
      "7/7 [==============================] - 50s 7s/step - loss: 0.5204 - accuracy: 0.7606 - val_loss: 0.5085 - val_accuracy: 0.8000\n",
      "Epoch 9/30\n",
      "7/7 [==============================] - 48s 7s/step - loss: 0.4885 - accuracy: 0.7840 - val_loss: 0.5725 - val_accuracy: 0.7000\n",
      "Epoch 10/30\n",
      "7/7 [==============================] - 48s 7s/step - loss: 0.4370 - accuracy: 0.8216 - val_loss: 0.4972 - val_accuracy: 0.7750\n",
      "Epoch 11/30\n",
      "7/7 [==============================] - 49s 7s/step - loss: 0.4778 - accuracy: 0.7653 - val_loss: 0.5851 - val_accuracy: 0.7500\n",
      "Epoch 12/30\n",
      "7/7 [==============================] - 49s 7s/step - loss: 0.4871 - accuracy: 0.7793 - val_loss: 0.5054 - val_accuracy: 0.7750\n",
      "Epoch 13/30\n",
      "7/7 [==============================] - 49s 7s/step - loss: 0.4880 - accuracy: 0.7981 - val_loss: 0.5062 - val_accuracy: 0.7750\n",
      "Epoch 14/30\n",
      "7/7 [==============================] - 49s 7s/step - loss: 0.4475 - accuracy: 0.8028 - val_loss: 0.5290 - val_accuracy: 0.7750\n",
      "Epoch 15/30\n",
      "7/7 [==============================] - 48s 7s/step - loss: 0.4688 - accuracy: 0.8122 - val_loss: 0.4580 - val_accuracy: 0.8250\n",
      "Epoch 16/30\n",
      "7/7 [==============================] - 48s 7s/step - loss: 0.4502 - accuracy: 0.7934 - val_loss: 0.5387 - val_accuracy: 0.8000\n",
      "Epoch 17/30\n",
      "7/7 [==============================] - 49s 7s/step - loss: 0.4183 - accuracy: 0.8216 - val_loss: 0.4632 - val_accuracy: 0.8000\n",
      "Epoch 18/30\n",
      "7/7 [==============================] - 48s 7s/step - loss: 0.4353 - accuracy: 0.8169 - val_loss: 0.5369 - val_accuracy: 0.8000\n",
      "Epoch 19/30\n",
      "7/7 [==============================] - 48s 7s/step - loss: 0.4236 - accuracy: 0.7981 - val_loss: 0.4570 - val_accuracy: 0.8000\n",
      "Epoch 20/30\n",
      "7/7 [==============================] - 48s 7s/step - loss: 0.4061 - accuracy: 0.8357 - val_loss: 0.5163 - val_accuracy: 0.8000\n",
      "Epoch 21/30\n",
      "7/7 [==============================] - 49s 7s/step - loss: 0.3596 - accuracy: 0.8545 - val_loss: 0.4495 - val_accuracy: 0.7750\n",
      "Epoch 22/30\n",
      "7/7 [==============================] - 49s 7s/step - loss: 0.4065 - accuracy: 0.8263 - val_loss: 0.4492 - val_accuracy: 0.8500\n",
      "Epoch 23/30\n",
      "7/7 [==============================] - 48s 7s/step - loss: 0.4057 - accuracy: 0.8404 - val_loss: 0.4422 - val_accuracy: 0.8750\n",
      "Epoch 24/30\n",
      "7/7 [==============================] - 48s 7s/step - loss: 0.3731 - accuracy: 0.8545 - val_loss: 0.4502 - val_accuracy: 0.8250\n",
      "Epoch 25/30\n",
      "7/7 [==============================] - 49s 7s/step - loss: 0.4169 - accuracy: 0.8357 - val_loss: 0.3965 - val_accuracy: 0.8500\n",
      "Epoch 26/30\n",
      "7/7 [==============================] - 48s 7s/step - loss: 0.3314 - accuracy: 0.8638 - val_loss: 0.4581 - val_accuracy: 0.8000\n",
      "Epoch 27/30\n",
      "7/7 [==============================] - 49s 7s/step - loss: 0.3892 - accuracy: 0.8404 - val_loss: 0.4224 - val_accuracy: 0.8500\n",
      "Epoch 28/30\n",
      "7/7 [==============================] - 49s 7s/step - loss: 0.4148 - accuracy: 0.8169 - val_loss: 0.4268 - val_accuracy: 0.8750\n",
      "Epoch 29/30\n",
      "7/7 [==============================] - 51s 7s/step - loss: 0.3887 - accuracy: 0.8357 - val_loss: 0.4394 - val_accuracy: 0.8250\n",
      "Epoch 30/30\n",
      "7/7 [==============================] - 50s 7s/step - loss: 0.3549 - accuracy: 0.8404 - val_loss: 0.4075 - val_accuracy: 0.8750\n"
     ]
    }
   ],
   "source": [
    "hist = model.fit(\n",
    "    train_dataset,\n",
    "    epochs = 30,\n",
    "    validation_data = test_dataset\n",
    ")"
   ]
  },
  {
   "cell_type": "code",
   "execution_count": 24,
   "id": "0c582b88",
   "metadata": {},
   "outputs": [],
   "source": [
    "model.save('model.h5')"
   ]
  },
  {
   "cell_type": "code",
   "execution_count": 25,
   "id": "67508f27",
   "metadata": {},
   "outputs": [],
   "source": [
    "from tensorflow.keras.preprocessing.image import load_img"
   ]
  },
  {
   "cell_type": "markdown",
   "id": "ede75387",
   "metadata": {},
   "source": [
    "## Testing the model"
   ]
  },
  {
   "cell_type": "code",
   "execution_count": 64,
   "id": "2411fdc6",
   "metadata": {},
   "outputs": [],
   "source": [
    "img=image.load_img('E:/Project for Portfolio/Brain Tumour detection/brain_tumor_dataset/Test/no/3 no.jpg',target_size=(224,224))"
   ]
  },
  {
   "cell_type": "code",
   "execution_count": 65,
   "id": "7d4c6d01",
   "metadata": {},
   "outputs": [],
   "source": [
    "x=image.img_to_array(img)\n",
    "x=x/255"
   ]
  },
  {
   "cell_type": "code",
   "execution_count": 66,
   "id": "c84f9779",
   "metadata": {},
   "outputs": [],
   "source": [
    "x=np.expand_dims(x,axis=0)"
   ]
  },
  {
   "cell_type": "code",
   "execution_count": 67,
   "id": "7077ace8",
   "metadata": {},
   "outputs": [],
   "source": [
    "pred=model.predict(x)"
   ]
  },
  {
   "cell_type": "code",
   "execution_count": 68,
   "id": "3a471dca",
   "metadata": {},
   "outputs": [
    {
     "data": {
      "text/plain": [
       "0.05116403"
      ]
     },
     "execution_count": 68,
     "metadata": {},
     "output_type": "execute_result"
    }
   ],
   "source": [
    "pred[0][0]"
   ]
  },
  {
   "cell_type": "code",
   "execution_count": 69,
   "id": "34ef3f13",
   "metadata": {},
   "outputs": [
    {
     "name": "stdout",
     "output_type": "stream",
     "text": [
      "No tumor detected\n"
     ]
    }
   ],
   "source": [
    "if pred[0][0] < 0.5:\n",
    "    print('No tumor detected')\n",
    "else:\n",
    "    print('Tumor Detected')"
   ]
  },
  {
   "cell_type": "markdown",
   "id": "0ee3943a",
   "metadata": {},
   "source": [
    "## Accuracy of model"
   ]
  },
  {
   "cell_type": "code",
   "execution_count": 71,
   "id": "0443e999",
   "metadata": {},
   "outputs": [
    {
     "data": {
      "text/plain": [
       "0.875"
      ]
     },
     "execution_count": 71,
     "metadata": {},
     "output_type": "execute_result"
    }
   ],
   "source": [
    "model.evaluate_generator(test_dataset)[1]"
   ]
  },
  {
   "cell_type": "code",
   "execution_count": 77,
   "id": "f0123680",
   "metadata": {},
   "outputs": [],
   "source": [
    "history=hist.history.keys()"
   ]
  },
  {
   "cell_type": "code",
   "execution_count": 84,
   "id": "2cc89e70",
   "metadata": {},
   "outputs": [
    {
     "data": {
      "text/plain": [
       "Text(0.5, 1.0, 'Accuracy Curves')"
      ]
     },
     "execution_count": 84,
     "metadata": {},
     "output_type": "execute_result"
    },
    {
     "data": {
      "image/png": "[encoded data removed]",
      "text/plain": [
       "<Figure size 432x288 with 1 Axes>"
      ]
     },
     "metadata": {
      "needs_background": "light"
     },
     "output_type": "display_data"
    }
   ],
   "source": [
    "plt.plot(hist.history['accuracy'])\n",
    "plt.plot(hist.history['val_accuracy'],color='red')\n",
    "plt.title('Accuracy Curves')"
   ]
  },
  {
   "cell_type": "code",
   "execution_count": 85,
   "id": "46782861",
   "metadata": {},
   "outputs": [
    {
     "data": {
      "text/plain": [
       "Text(0.5, 1.0, 'Loss Curves')"
      ]
     },
     "execution_count": 85,
     "metadata": {},
     "output_type": "execute_result"
    },
    {
     "data": {
      "image/png": "[encoded data removed]",
      "text/plain": [
       "<Figure size 432x288 with 1 Axes>"
      ]
     },
     "metadata": {
      "needs_background": "light"
     },
     "output_type": "display_data"
    }
   ],
   "source": [
    "plt.plot(hist.history['loss'])\n",
    "plt.plot(hist.history['val_loss'],color='red')\n",
    "plt.title('Loss Curves')"
   ]
  }
 ],
 "metadata": {
  "kernelspec": {
   "display_name": "Python 3",
   "language": "python",
   "name": "python3"
  },
  "language_info": {
   "codemirror_mode": {
    "name": "ipython",
    "version": 3
   },
   "file_extension": ".py",
   "mimetype": "text/x-python",
   "name": "python",
   "nbconvert_exporter": "python",
   "pygments_lexer": "ipython3",
   "version": "3.9.7"
  }
 },
 "nbformat": 4,
 "nbformat_minor": 5
}
